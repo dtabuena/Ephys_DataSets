{
  "nbformat": 4,
  "nbformat_minor": 0,
  "metadata": {
    "colab": {
      "provenance": [],
      "include_colab_link": true
    },
    "kernelspec": {
      "name": "python3",
      "display_name": "Python 3"
    },
    "language_info": {
      "name": "python"
    }
  },
  "cells": [
    {
      "cell_type": "markdown",
      "metadata": {
        "id": "view-in-github",
        "colab_type": "text"
      },
      "source": [
        "<a href=\"https://colab.research.google.com/github/dtabuena/Ephys_DataSets/blob/main/Wild_Type_Excitability.ipynb\" target=\"_parent\"><img src=\"https://colab.research.google.com/assets/colab-badge.svg\" alt=\"Open In Colab\"/></a>"
      ]
    },
    {
      "cell_type": "code",
      "source": [
        "dataset = {'data_name': 'Wild_Type_Hipp',\n",
        "           'data_source': \"https://www.dropbox.com/scl/fo/xpsvbsuu6nzsl4rtm7fvv/h?rlkey=wj4gdwxalt4wse40um2z2fvjx&dl=1\",\n",
        "           'file_naming_scheme': ['Rec_date','GenoType','Sex','Age','SliceDir','Slice_Num','Cell_num','Cell_Type'],\n",
        "           }\n"
      ],
      "metadata": {
        "id": "-qJsop55B4Bi"
      },
      "execution_count": 19,
      "outputs": []
    },
    {
      "cell_type": "code",
      "source": [],
      "metadata": {
        "id": "3kpeOUtc65Tr"
      },
      "execution_count": 19,
      "outputs": []
    },
    {
      "cell_type": "code",
      "execution_count": 20,
      "metadata": {
        "id": "N5Bsqf_jeQjZ",
        "outputId": "a3fe7d7d-433c-4a16-b886-f7e6121c1bd8",
        "colab": {
          "base_uri": "https://localhost:8080/"
        }
      },
      "outputs": [
        {
          "output_type": "stream",
          "name": "stdout",
          "text": [
            "Cloning into 'EphysLib'...\n",
            "remote: Enumerating objects: 1098, done.\u001b[K\n",
            "remote: Counting objects: 100% (475/475), done.\u001b[K\n",
            "remote: Compressing objects: 100% (204/204), done.\u001b[K\n",
            "remote: Total 1098 (delta 349), reused 359 (delta 271), pack-reused 623\u001b[K\n",
            "Receiving objects: 100% (1098/1098), 17.40 MiB | 15.75 MiB/s, done.\n",
            "Resolving deltas: 100% (726/726), done.\n",
            "Requirement already satisfied: pyabf in /usr/local/lib/python3.10/dist-packages (2.3.8)\n",
            "Requirement already satisfied: matplotlib>=2.1.0 in /usr/local/lib/python3.10/dist-packages (from pyabf) (3.7.1)\n",
            "Requirement already satisfied: numpy>=1.13.3 in /usr/local/lib/python3.10/dist-packages (from pyabf) (1.23.5)\n",
            "Requirement already satisfied: pytest>=3.0.7 in /usr/local/lib/python3.10/dist-packages (from pyabf) (7.4.3)\n",
            "Requirement already satisfied: contourpy>=1.0.1 in /usr/local/lib/python3.10/dist-packages (from matplotlib>=2.1.0->pyabf) (1.1.1)\n",
            "Requirement already satisfied: cycler>=0.10 in /usr/local/lib/python3.10/dist-packages (from matplotlib>=2.1.0->pyabf) (0.12.1)\n",
            "Requirement already satisfied: fonttools>=4.22.0 in /usr/local/lib/python3.10/dist-packages (from matplotlib>=2.1.0->pyabf) (4.43.1)\n",
            "Requirement already satisfied: kiwisolver>=1.0.1 in /usr/local/lib/python3.10/dist-packages (from matplotlib>=2.1.0->pyabf) (1.4.5)\n",
            "Requirement already satisfied: packaging>=20.0 in /usr/local/lib/python3.10/dist-packages (from matplotlib>=2.1.0->pyabf) (23.2)\n",
            "Requirement already satisfied: pillow>=6.2.0 in /usr/local/lib/python3.10/dist-packages (from matplotlib>=2.1.0->pyabf) (9.4.0)\n",
            "Requirement already satisfied: pyparsing>=2.3.1 in /usr/local/lib/python3.10/dist-packages (from matplotlib>=2.1.0->pyabf) (3.1.1)\n",
            "Requirement already satisfied: python-dateutil>=2.7 in /usr/local/lib/python3.10/dist-packages (from matplotlib>=2.1.0->pyabf) (2.8.2)\n",
            "Requirement already satisfied: iniconfig in /usr/local/lib/python3.10/dist-packages (from pytest>=3.0.7->pyabf) (2.0.0)\n",
            "Requirement already satisfied: pluggy<2.0,>=0.12 in /usr/local/lib/python3.10/dist-packages (from pytest>=3.0.7->pyabf) (1.3.0)\n",
            "Requirement already satisfied: exceptiongroup>=1.0.0rc8 in /usr/local/lib/python3.10/dist-packages (from pytest>=3.0.7->pyabf) (1.1.3)\n",
            "Requirement already satisfied: tomli>=1.0.0 in /usr/local/lib/python3.10/dist-packages (from pytest>=3.0.7->pyabf) (2.0.1)\n",
            "Requirement already satisfied: six>=1.5 in /usr/local/lib/python3.10/dist-packages (from python-dateutil>=2.7->matplotlib>=2.1.0->pyabf) (1.16.0)\n"
          ]
        }
      ],
      "source": [
        "'Get Standard Modules'\n",
        "\n",
        "import pandas as pd\n",
        "import numpy as np\n",
        "import matplotlib\n",
        "import matplotlib.pyplot as plt\n",
        "import scipy\n",
        "from scipy import stats\n",
        "import os\n",
        "from scipy.signal import butter,filtfilt\n",
        "from tqdm import tqdm\n",
        "import warnings\n",
        "from IPython.display import clear_output\n",
        "from datetime import datetime\n",
        "import sys\n",
        "import warnings\n",
        "import shutil\n",
        "from google.colab import files\n",
        "!pip install openpyxl --quiet\n",
        "!pip install XlsxWriter --quiet\n",
        "\n",
        "\n",
        "'''Get Repositories'''\n",
        "try: shutil.rmtree('/content/EphysLib')\n",
        "except: None\n",
        "\n",
        "\"run dtabuena's ephys notebooks\"\n",
        "!git clone https://github.com/dtabuena/EphysLib\n",
        "to_import = [\n",
        "            'ABF_Quality_Control.ipynb',\n",
        "            'Basic_Ephys.ipynb',\n",
        "            'Simple_ABF_tools.ipynb',\n",
        "            'fun_math.ipynb',\n",
        "            'importing_abfs_from_dropbox.ipynb',\n",
        "            'QC_recoding_dataframe.ipynb',\n",
        "            'Analyzers/input_resistance_analyzer.ipynb',\n",
        "            'Analyzers/gain_analyzer.ipynb',\n",
        "            'Analyzers/latencey_analyzer.ipynb',\n",
        "            'Analyzers/IV_analyzer.ipynb',\n",
        "            'Analyzers/Vm_analyzer.ipynb',\n",
        "            'Analyzers/membrane_analyzer.ipynb',\n",
        "            'Analyzers/rheobase_analyzer.ipynb',\n",
        "\n",
        "            'Ephys_wrapper.ipynb',\n",
        "            ]\n",
        "for i in to_import:\n",
        "    f = '/content/EphysLib/' + i\n",
        "    %run $f --quiet\n",
        "\n",
        "\n",
        "##### Setup Protocol List\n",
        "VC_prot = ['VC - MemTest-10ms-160ms',\n",
        "           'VC - Multi IV - 150ms',]\n",
        "IC_prot = ['IC - Gain - D20pA',\n",
        "           'IC - Gain - D50pA',\n",
        "           'IC - Rheobase',\n",
        "           'IC - R input',\n",
        "           'IC - Latentcy 800pA-1s'\n",
        "           'VC - 3min GapFree',\n",
        "           'I0 - 3min GapFree']"
      ]
    },
    {
      "cell_type": "code",
      "source": [
        "data_name = dataset['data_name']\n",
        "data_source = dataset['data_source']\n",
        "file_naming_scheme = dataset['file_naming_scheme']\n",
        "\n",
        "''' Gather and Catalog Source Data'''\n",
        "file_loc = get_drobox_folder_url(data_source, '' + data_name)\n",
        "# clear_output(wait=False)\n",
        "abf_recordings_df, protocol_set = catalogue_recs(file_loc,file_naming_scheme)\n",
        "print(protocol_set)"
      ],
      "metadata": {
        "id": "7tcKwC6keh7r"
      },
      "execution_count": null,
      "outputs": []
    },
    {
      "cell_type": "code",
      "source": [
        "#\n",
        "Fast_results = ephys_wrapper(dataset,VC_prot,IC_prot,strat_cols=[ 'Cell_Type'])"
      ],
      "metadata": {
        "id": "6rltd5IlXLen"
      },
      "execution_count": null,
      "outputs": []
    },
    {
      "cell_type": "code",
      "source": [
        "strat_abfs_by_prot( 'reorg','/content/my_ephys_data_'+dataset['data_name'], f\"/content/{dataset['data_name']}_Recording_LookUp.csv\" )"
      ],
      "metadata": {
        "id": "Yz-C0kWgTubh",
        "outputId": "4517a7e8-86de-42d7-b64b-c75ea0d0e270",
        "colab": {
          "base_uri": "https://localhost:8080/",
          "height": 17
        }
      },
      "execution_count": 23,
      "outputs": [
        {
          "output_type": "display_data",
          "data": {
            "text/plain": [
              "<IPython.core.display.Javascript object>"
            ],
            "application/javascript": [
              "\n",
              "    async function download(id, filename, size) {\n",
              "      if (!google.colab.kernel.accessAllowed) {\n",
              "        return;\n",
              "      }\n",
              "      const div = document.createElement('div');\n",
              "      const label = document.createElement('label');\n",
              "      label.textContent = `Downloading \"${filename}\": `;\n",
              "      div.appendChild(label);\n",
              "      const progress = document.createElement('progress');\n",
              "      progress.max = size;\n",
              "      div.appendChild(progress);\n",
              "      document.body.appendChild(div);\n",
              "\n",
              "      const buffers = [];\n",
              "      let downloaded = 0;\n",
              "\n",
              "      const channel = await google.colab.kernel.comms.open(id);\n",
              "      // Send a message to notify the kernel that we're ready.\n",
              "      channel.send({})\n",
              "\n",
              "      for await (const message of channel.messages) {\n",
              "        // Send a message to notify the kernel that we're ready.\n",
              "        channel.send({})\n",
              "        if (message.buffers) {\n",
              "          for (const buffer of message.buffers) {\n",
              "            buffers.push(buffer);\n",
              "            downloaded += buffer.byteLength;\n",
              "            progress.value = downloaded;\n",
              "          }\n",
              "        }\n",
              "      }\n",
              "      const blob = new Blob(buffers, {type: 'application/binary'});\n",
              "      const a = document.createElement('a');\n",
              "      a.href = window.URL.createObjectURL(blob);\n",
              "      a.download = filename;\n",
              "      div.appendChild(a);\n",
              "      a.click();\n",
              "      div.remove();\n",
              "    }\n",
              "  "
            ]
          },
          "metadata": {}
        },
        {
          "output_type": "display_data",
          "data": {
            "text/plain": [
              "<IPython.core.display.Javascript object>"
            ],
            "application/javascript": [
              "download(\"download_784ee607-03b2-42c7-8383-f3e234da9cb7\", \"reorg.zip\", 22)"
            ]
          },
          "metadata": {}
        }
      ]
    },
    {
      "cell_type": "code",
      "source": [
        "single_val_strat_groups = ['ap_amplitutude',\n",
        "                            'Rmp_mV',\n",
        "                            'Ra_160.0',\n",
        "                            'Rm_160.0',\n",
        "                            'Cm_pc_10.0',\n",
        "                            'Cmq_160.0',\n",
        "                            'Ra_160.0',\n",
        "                            'Rm_160.0',\n",
        "                            'Gain_(HzpA)',\n",
        "                            'max_adapt%',\n",
        "                            'adapt_thresh_90',\n",
        "                            'Rheobase',\n",
        "                            'AP_thresh_US',\n",
        "                            'fast_after_hyperpol',\n",
        "                            'Spike_latency_(ms)',\n",
        "                            'Input_Resistance_MO',\n",
        "                            ]\n",
        "\n",
        "\n",
        "manual_exclusions = [''] # Dramatic shift in seal at unknown time during recording.\n",
        "exclusion_overide = [''] # Vm dramatically improved prior to gain recording\n",
        "\n",
        "\n",
        "strat_df_dict = Fast_results['strat_df_dict'].copy()\n",
        "file_naming_scheme = dataset['file_naming_scheme']\n",
        "filtered_dict, fail_dict = final_qc(strat_df_dict,file_naming_scheme,qc_Rmp=-45,qc_AP_amp=40,qc_RR=.35,qc_Ra=65,manual_exclusions=manual_exclusions,exclusion_overide=exclusion_overide)\n",
        "alt_strat_dict = restratify_results(filtered_dict,file_naming_scheme,single_val_strat_groups)\n",
        "resp_curve_list = ['IV_Early_(V_stim)','IV_Early_(I_peak)','IV_Steady_State_(I_mean)','Stim_Levels_(pA)','Spike_Counts']\n",
        "response_curve_data = stratify_response_curve(filtered_dict,resp_curve_list,strat_list=[''])\n",
        "alt_strat_dict.update(response_curve_data)\n",
        "\n",
        "write_strat_dfs(alt_strat_dict, dataset['data_name']+'_results_stratified_alternate')"
      ],
      "metadata": {
        "id": "sDZyt586dICY",
        "outputId": "768a396b-e12d-430e-d876-1f73a0aff929",
        "colab": {
          "base_uri": "https://localhost:8080/",
          "height": 1000
        }
      },
      "execution_count": 25,
      "outputs": [
        {
          "output_type": "stream",
          "name": "stdout",
          "text": [
            "2023x10x26_WT_F_P586_Sag_s002_c003_CA3 Fail - Rmp = -40.641685485839844 mV > -45 mV\n",
            "2023x10x30_WT_F_P590_Sag_s001_c001_CA3 Fail - Rmp = -34.172943115234375 mV > -45 mV\n",
            "2023x10x30_WT_F_P590_Sag_s002_c004_CA3 Fail - Rmp = -41.546669006347656 mV > -45 mV\n",
            "2023x10x30_WT_F_P590_Sag_s002_c005_CA3 Fail - RR = 5.579830936689313 > 0.35\n",
            "ap_amplitutude\n",
            "Rmp_mV\n",
            "Ra_160.0\n",
            "Rm_160.0\n",
            "Cm_pc_10.0\n",
            "Cmq_160.0\n",
            "Gain_(HzpA)\n",
            "max_adapt%\n",
            "adapt_thresh_90\n",
            "Rheobase\n",
            "AP_thresh_US\n",
            "fast_after_hyperpol\n",
            "Spike_latency_(ms)\n",
            "Input_Resistance_MO\n",
            "_IV_Early_(V_stim)\n",
            "_IV_Early_(I_peak)\n",
            "_IV_Steady_State_(I_mean)\n",
            "_Stim_Levels_(pA)\n",
            "_Spike_Counts\n"
          ]
        },
        {
          "output_type": "stream",
          "name": "stderr",
          "text": [
            "<ipython-input-20-9455134f582a>:8: FutureWarning: The frame.append method is deprecated and will be removed from pandas in a future version. Use pandas.concat instead.\n",
            "  new_df = new_df.append(blank_df,ignore_index=True)\n",
            "<ipython-input-20-9455134f582a>:8: FutureWarning: The frame.append method is deprecated and will be removed from pandas in a future version. Use pandas.concat instead.\n",
            "  new_df = new_df.append(blank_df,ignore_index=True)\n",
            "<ipython-input-20-9455134f582a>:8: FutureWarning: The frame.append method is deprecated and will be removed from pandas in a future version. Use pandas.concat instead.\n",
            "  new_df = new_df.append(blank_df,ignore_index=True)\n",
            "<ipython-input-20-9455134f582a>:8: FutureWarning: The frame.append method is deprecated and will be removed from pandas in a future version. Use pandas.concat instead.\n",
            "  new_df = new_df.append(blank_df,ignore_index=True)\n",
            "<ipython-input-20-9455134f582a>:8: FutureWarning: The frame.append method is deprecated and will be removed from pandas in a future version. Use pandas.concat instead.\n",
            "  new_df = new_df.append(blank_df,ignore_index=True)\n",
            "<ipython-input-20-9455134f582a>:8: FutureWarning: The frame.append method is deprecated and will be removed from pandas in a future version. Use pandas.concat instead.\n",
            "  new_df = new_df.append(blank_df,ignore_index=True)\n",
            "<ipython-input-20-9455134f582a>:8: FutureWarning: The frame.append method is deprecated and will be removed from pandas in a future version. Use pandas.concat instead.\n",
            "  new_df = new_df.append(blank_df,ignore_index=True)\n",
            "<ipython-input-20-9455134f582a>:8: FutureWarning: The frame.append method is deprecated and will be removed from pandas in a future version. Use pandas.concat instead.\n",
            "  new_df = new_df.append(blank_df,ignore_index=True)\n",
            "<ipython-input-20-9455134f582a>:8: FutureWarning: The frame.append method is deprecated and will be removed from pandas in a future version. Use pandas.concat instead.\n",
            "  new_df = new_df.append(blank_df,ignore_index=True)\n",
            "<ipython-input-20-9455134f582a>:8: FutureWarning: The frame.append method is deprecated and will be removed from pandas in a future version. Use pandas.concat instead.\n",
            "  new_df = new_df.append(blank_df,ignore_index=True)\n",
            "<ipython-input-20-9455134f582a>:8: FutureWarning: The frame.append method is deprecated and will be removed from pandas in a future version. Use pandas.concat instead.\n",
            "  new_df = new_df.append(blank_df,ignore_index=True)\n",
            "<ipython-input-20-9455134f582a>:8: FutureWarning: The frame.append method is deprecated and will be removed from pandas in a future version. Use pandas.concat instead.\n",
            "  new_df = new_df.append(blank_df,ignore_index=True)\n",
            "<ipython-input-20-9455134f582a>:8: FutureWarning: The frame.append method is deprecated and will be removed from pandas in a future version. Use pandas.concat instead.\n",
            "  new_df = new_df.append(blank_df,ignore_index=True)\n",
            "<ipython-input-20-9455134f582a>:8: FutureWarning: The frame.append method is deprecated and will be removed from pandas in a future version. Use pandas.concat instead.\n",
            "  new_df = new_df.append(blank_df,ignore_index=True)\n",
            "<ipython-input-20-9455134f582a>:8: FutureWarning: The frame.append method is deprecated and will be removed from pandas in a future version. Use pandas.concat instead.\n",
            "  new_df = new_df.append(blank_df,ignore_index=True)\n",
            "<ipython-input-20-9455134f582a>:8: FutureWarning: The frame.append method is deprecated and will be removed from pandas in a future version. Use pandas.concat instead.\n",
            "  new_df = new_df.append(blank_df,ignore_index=True)\n",
            "<ipython-input-20-faa3b947bb74>:6: FutureWarning: Use of **kwargs is deprecated, use engine_kwargs instead.\n",
            "  writer = pd.ExcelWriter(xl_file_name, options=options)\n",
            "<ipython-input-20-faa3b947bb74>:14: FutureWarning: save is not part of the public API, usage can give unexpected results and will be removed in a future version\n",
            "  writer.save()\n",
            "/usr/local/lib/python3.10/dist-packages/xlsxwriter/workbook.py:368: UserWarning: Calling close() on already closed file.\n",
            "  warn(\"Calling close() on already closed file.\")\n"
          ]
        },
        {
          "output_type": "display_data",
          "data": {
            "text/plain": [
              "<IPython.core.display.Javascript object>"
            ],
            "application/javascript": [
              "\n",
              "    async function download(id, filename, size) {\n",
              "      if (!google.colab.kernel.accessAllowed) {\n",
              "        return;\n",
              "      }\n",
              "      const div = document.createElement('div');\n",
              "      const label = document.createElement('label');\n",
              "      label.textContent = `Downloading \"${filename}\": `;\n",
              "      div.appendChild(label);\n",
              "      const progress = document.createElement('progress');\n",
              "      progress.max = size;\n",
              "      div.appendChild(progress);\n",
              "      document.body.appendChild(div);\n",
              "\n",
              "      const buffers = [];\n",
              "      let downloaded = 0;\n",
              "\n",
              "      const channel = await google.colab.kernel.comms.open(id);\n",
              "      // Send a message to notify the kernel that we're ready.\n",
              "      channel.send({})\n",
              "\n",
              "      for await (const message of channel.messages) {\n",
              "        // Send a message to notify the kernel that we're ready.\n",
              "        channel.send({})\n",
              "        if (message.buffers) {\n",
              "          for (const buffer of message.buffers) {\n",
              "            buffers.push(buffer);\n",
              "            downloaded += buffer.byteLength;\n",
              "            progress.value = downloaded;\n",
              "          }\n",
              "        }\n",
              "      }\n",
              "      const blob = new Blob(buffers, {type: 'application/binary'});\n",
              "      const a = document.createElement('a');\n",
              "      a.href = window.URL.createObjectURL(blob);\n",
              "      a.download = filename;\n",
              "      div.appendChild(a);\n",
              "      a.click();\n",
              "      div.remove();\n",
              "    }\n",
              "  "
            ]
          },
          "metadata": {}
        },
        {
          "output_type": "display_data",
          "data": {
            "text/plain": [
              "<IPython.core.display.Javascript object>"
            ],
            "application/javascript": [
              "download(\"download_661a862c-b53e-42db-8486-0e47fba2add4\", \"Wild_Type_Hipp_results_stratified_alternate.xlsx\", 23304)"
            ]
          },
          "metadata": {}
        }
      ]
    },
    {
      "cell_type": "code",
      "source": [
        "# import scipy as sc\n",
        "\n",
        "\n",
        "\n",
        "\n",
        "# def butter_bandpass(lowcut, highcut, fs, order=5):\n",
        "#     nyq = 0.5 * fs\n",
        "#     low = lowcut / nyq\n",
        "#     high = np.min([1-1/fs,highcut / nyq])\n",
        "#     b, a = sc.signal.butter(order, [low, high], btype='band')\n",
        "#     return b, a\n",
        "\n",
        "# def butter_bandpass_filter(data, lowcut, highcut, fs, order=2):\n",
        "\n",
        "#     b, a = butter_bandpass(lowcut, highcut, fs, order=order)\n",
        "#     data = sc.signal.filtfilt(b, a, data)\n",
        "\n",
        "#     b_notch,a_notch = sc.signal.iirnotch(50, 20, fs=fs)\n",
        "#     data = sc.signal.filtfilt(a_notch, a_notch, data)\n",
        "#     data = data-np.mean(data)\n",
        "#     return data\n",
        "\n",
        "# def filter_for_PSCs(abf, lowcut, highcut,):\n",
        "#     time = abf.sweepX\n",
        "#     response = abf.sweepY\n",
        "#     holding = abf.sweepC\n",
        "#     fs=abf.sampleRate\n",
        "#     response_f1 = butter_bandpass_filter(response, lowcut, highcut, fs  )\n",
        "#     response_f2 = butter_bandpass_filter(response, .01, 5000, fs  )\n",
        "\n",
        "#     fig,ax = plt.subplots(1,figsize=[16,3])\n",
        "#     ax.plot(time,response_f2,'k')\n",
        "#     ax.plot(time,response_f1,'r')\n",
        "#     x0 = np.random.choice(time,1)\n",
        "#     x0 = 25.25\n",
        "#     dur = 3\n",
        "#     xlims = x0 +np.array([0,dur])\n",
        "#     ax.set_xlim(xlims)\n",
        "#     ax.set_ylim([-30,10])\n",
        "\n",
        "#     return response_f1\n",
        "\n",
        "# def find_events(response_f1,fs, sd_thresh = 5,cool_down_time=0,to_plot= True):\n",
        "#     sd = np.std(response_f1)\n",
        "#     print(str(sd_thresh)+'sd:',sd*sd_thresh)\n",
        "#     cool_down_idx = cool_down_time*fs\n",
        "#     is_event = abs(response_f1)>sd*sd_thresh\n",
        "#     event_start = np.diff(is_event,prepend=0)>0\n",
        "#     starts = np.where(event_start)[0]\n",
        "\n",
        "#     x0t = -.005\n",
        "#     x1t = 0.02\n",
        "#     x0n = x0t*fs\n",
        "#     x1n = x1t*fs\n",
        "\n",
        "#     fig,ax = plt.subplots(1,figsize=[3,3])\n",
        "#     time_wind = np.arange(x0t,x1t,1/fs)\n",
        "#     stack = []\n",
        "#     for e in starts:\n",
        "#         indx_wind = e + np.arange(x0n,x1n,dtype=int)\n",
        "#         try:\n",
        "#             resp_wind = response_f1[indx_wind]\n",
        "#             ax.plot(time_wind,resp_wind)\n",
        "#             stack.append(resp_wind)\n",
        "#         except: None\n",
        "\n",
        "#     ax.axhline(sd*sd_thresh,color='k')\n",
        "#     ax.axhline(-sd*sd_thresh,color='k')\n",
        "#     stack_np = np.stack(stack,axis=0)\n",
        "#     print(stack_np.shape)\n",
        "\n",
        "#     return stack_np\n",
        "\n",
        "# to_plot= True\n",
        "# abf=abf_or_name('my_ephys_data_Today/2023x04x12_E4KI_F_P236_s001_c001_DG_0007.abf')\n",
        "\n",
        "\n",
        "\n",
        "# response_f1 = filter_for_PSCs(abf, lowcut = 1, highcut = 500)\n",
        "# stack_np = find_events(response_f1,fs, sd_thresh = 5,cool_down_time = 0.005 , to_plot= True)\n",
        "\n",
        "# U, s, Vh = sc.linalg.svd(stack_np,full_matrices=False)\n",
        "# fig,ax=plt.subplots(3)\n",
        "# _ = ax[0].plot(np.arange(len(s))+1,1-(s/np.sum(s)),'o')\n",
        "# ax[0].set_ylim(0,1)\n",
        "# ax[0].set_xscale('log')\n",
        "# u, s, vh = sc.sparse.linalg.svds(stack_np,k=1)\n",
        "# _ =  ax[1].plot(vh.T @ np.diag(s) )\n",
        "\n",
        "\n",
        "# stack_reduced = u @ np.diag(s) @ vh\n",
        "# # _ =  ax[2].plot(stack_reduced.T)\n",
        "\n",
        "\n",
        "# template = vh.T.flatten()\n",
        "# template = template/np.sum(template)\n",
        "# response_f1 = response_f1\n",
        "\n",
        "\n",
        "# x0 = np.random.choice(time,1)\n",
        "# x0 = 24.25\n",
        "# dur = 4\n",
        "\n",
        "# time = abf.sweepX\n",
        "# t_ind = np.logical_and( time>=x0, time<x0+dur )\n",
        "\n",
        "# fig,ax = plt.subplots(1)\n",
        "# ax.plot(template)\n",
        "# corr = np.correlate(template, response_f1 ,mode='same')\n",
        "\n",
        "# fig,ax = plt.subplots(1,figsize=[16,3])\n",
        "# ax.plot(time,response_f1,'k')\n",
        "# ax.plot(time,corr,'r')\n",
        "# # ax.plot(corr,'r')\n",
        "# xlims = x0 +np.array([0,dur])\n",
        "# ax.set_xlim(xlims)\n",
        "# # ax.set_ylim([-100,10])\n"
      ],
      "metadata": {
        "id": "DkWaISTYiLKu"
      },
      "execution_count": 26,
      "outputs": []
    },
    {
      "cell_type": "code",
      "source": [],
      "metadata": {
        "id": "Q_vY2b6Fwlvr"
      },
      "execution_count": 26,
      "outputs": []
    }
  ]
}